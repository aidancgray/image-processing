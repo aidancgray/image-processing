{
 "cells": [
  {
   "cell_type": "code",
   "execution_count": 1,
   "metadata": {},
   "outputs": [],
   "source": [
    "import os\n",
    "import math\n",
    "import glob\n",
    "import numpy as np \n",
    "from astropy.io import fits\n",
    "\n",
    "\n",
    "def open_fits(filename):\n",
    "    fitsFile = fits.open(filename)\n",
    "    fitsData = fitsFile[0].data\n",
    "    fitsHdr = fitsFile[0].header\n",
    "\n",
    "    return fitsData, fitsHdr\n",
    "\n",
    "\n",
    "def write_fits(filepath, filename, data, hdr):\n",
    "    try:\n",
    "        fits.writeto(filepath+filename, data, hdr, overwrite=True)\n",
    "        return 0\n",
    "    except:\n",
    "        return 1\n",
    "    \n",
    "\n",
    "def single_image(filepath, filename, darkFilename=None):\n",
    "    r = 0\n",
    "    rawData, rawHdr = open_fits(filepath+filename)\n",
    "    \n",
    "    if darkFilename is None:\n",
    "        prcData = rawData\n",
    "    else:\n",
    "        darkData, darkHdr = open_fits(darkFilename)\n",
    "        prcData = np.subtract(rawData, darkData)\n",
    "\n",
    "    tmpFilename = filename.split('raw')[1]\n",
    "    prcFilename = 'dsi'+tmpFilename\n",
    "    r_ = write_fits(filepath, prcFilename, prcData, rawHdr)\n",
    "    if r_ != 0:\n",
    "        r = r_\n",
    "        \n",
    "    return r\n",
    "\n",
    "\n",
    "def loop_thru_dir(filepath, darkFilename=None):\n",
    "    r = 0\n",
    "    directoryList = glob.glob(filepath+'raw-*')\n",
    "    directoryList.sort(key=lambda f: int(''.join(filter(str.isdigit, f))))\n",
    "    \n",
    "    for filename in directoryList:\n",
    "        filename_ = filename.replace(filepath, '')\n",
    "        r_ = single_image(filepath, filename_, darkFilename)\n",
    "        if r_ != 0:\n",
    "            r = r_\n",
    "            \n",
    "    return r\n",
    "        "
   ]
  },
  {
   "cell_type": "code",
   "execution_count": 4,
   "metadata": {},
   "outputs": [],
   "source": [
    "filePath = '/Users/aidancgray/Documents/SCORPIO/SVC/Images/08-11-2023/good/'\n",
    "#fileName = 'raw-00000001.fits'\n",
    "darkFile = '/Users/aidancgray/Documents/SCORPIO/SVC/Images/08-11-2023/darks.fits'"
   ]
  },
  {
   "cell_type": "code",
   "execution_count": null,
   "metadata": {},
   "outputs": [],
   "source": [
    "single_image(filePath, fileName, darkFile)"
   ]
  },
  {
   "cell_type": "code",
   "execution_count": 5,
   "metadata": {},
   "outputs": [
    {
     "data": {
      "text/plain": [
       "0"
      ]
     },
     "execution_count": 5,
     "metadata": {},
     "output_type": "execute_result"
    }
   ],
   "source": [
    "loop_thru_dir(filePath, darkFile)"
   ]
  },
  {
   "cell_type": "code",
   "execution_count": null,
   "metadata": {},
   "outputs": [],
   "source": []
  }
 ],
 "metadata": {
  "kernelspec": {
   "display_name": "Python 3",
   "language": "python",
   "name": "python3"
  },
  "language_info": {
   "codemirror_mode": {
    "name": "ipython",
    "version": 3
   },
   "file_extension": ".py",
   "mimetype": "text/x-python",
   "name": "python",
   "nbconvert_exporter": "python",
   "pygments_lexer": "ipython3",
   "version": "3.8.13"
  }
 },
 "nbformat": 4,
 "nbformat_minor": 4
}
