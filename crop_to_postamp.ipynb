{
 "cells": [
  {
   "cell_type": "code",
   "execution_count": 4,
   "metadata": {},
   "outputs": [],
   "source": [
    "import os\n",
    "import math\n",
    "import numpy as np \n",
    "from astropy.io import fits\n",
    "\n",
    "\n",
    "def open_fits(filename):\n",
    "    fitsFile = fits.open(filename)\n",
    "    fitsData = fitsFile[0].data\n",
    "    fitsHdr = fitsFile[0].header\n",
    "\n",
    "    return fitsData, fitsHdr\n",
    "\n",
    "\n",
    "def write_fits(filepath, filename, data, hdr):\n",
    "    fits.writeto(filepath+filename, data, hdr, overwrite=True)\n",
    "\n",
    "    \n",
    "def single_image(filepath, filename, psSize, ctrs):\n",
    "    data, hdr = open_fits(filepath+'good/dsi/'+filename)\n",
    "    \n",
    "    xL_t = int(round(ctrs['t']['x']) - (psSize/2))\n",
    "    yL_t = int(round(ctrs['t']['y']) - (psSize/2))\n",
    "    xH_t = xL_t + psSize \n",
    "    yH_t = yL_t + psSize\n",
    "    \n",
    "#     xL_c = int(round(ctrs['c']['x']) - (psSize/2))\n",
    "#     yL_c = int(round(ctrs['c']['y']) - (psSize/2))\n",
    "#     xH_c = xL_c + psSize \n",
    "#     yH_c = yL_c + psSize\n",
    "    \n",
    "    xL_b = int(round(ctrs['b']['x']) - (psSize/2))\n",
    "    yL_b = int(round(ctrs['b']['y']) - (psSize/2))\n",
    "    xH_b = xL_b + psSize \n",
    "    yH_b = yL_b + psSize\n",
    "    \n",
    "    prcData_t = data[yL_t:yH_t, xL_t:xH_t]\n",
    "    #prcData_c = data[yL_c:yH_c, xL_c:xH_c]\n",
    "    prcData_b = data[yL_b:yH_b, xL_b:xH_b]\n",
    "    \n",
    "    tmpFilename = filename.split('dsi-')[1]\n",
    "    \n",
    "    prcFilename_t = 'good/dsi/post/t-'+tmpFilename\n",
    "    #prcFilename_c = 'post/c-'+tmpFilename\n",
    "    prcFilename_b = 'good/dsi/post/b-'+tmpFilename\n",
    "    \n",
    "    write_fits(filepath, prcFilename_t, prcData_t, hdr)\n",
    "    #write_fits(filepath, prcFilename_c, prcData_c, hdr)\n",
    "    write_fits(filepath, prcFilename_b, prcData_b, hdr)\n",
    "\n"
   ]
  },
  {
   "cell_type": "code",
   "execution_count": 5,
   "metadata": {},
   "outputs": [],
   "source": [
    "filepath = '/Users/aidancgray/Documents/SCORPIO/SVC/Images/08-11-2023/'\n",
    "#filename = 'dsi-00000002.fits'\n",
    "\n",
    "ctrs_1 = {'t': {'x':  133, 'y': 1074}, \n",
    "          'c': {'x':    0, 'y':    0}, \n",
    "          'b': {'x': 2667, 'y': 1084}}\n",
    "\n",
    "psSize = 40\n"
   ]
  },
  {
   "cell_type": "code",
   "execution_count": 6,
   "metadata": {},
   "outputs": [],
   "source": [
    "single_image(filepath, 'dsi-00000031.fits', psSize, ctrs_1)\n",
    "single_image(filepath, 'dsi-00000032.fits', psSize, ctrs_1)\n",
    "single_image(filepath, 'dsi-00000033.fits', psSize, ctrs_1)"
   ]
  },
  {
   "cell_type": "code",
   "execution_count": null,
   "metadata": {},
   "outputs": [],
   "source": []
  }
 ],
 "metadata": {
  "kernelspec": {
   "display_name": "Python 3",
   "language": "python",
   "name": "python3"
  },
  "language_info": {
   "codemirror_mode": {
    "name": "ipython",
    "version": 3
   },
   "file_extension": ".py",
   "mimetype": "text/x-python",
   "name": "python",
   "nbconvert_exporter": "python",
   "pygments_lexer": "ipython3",
   "version": "3.8.13"
  }
 },
 "nbformat": 4,
 "nbformat_minor": 4
}
